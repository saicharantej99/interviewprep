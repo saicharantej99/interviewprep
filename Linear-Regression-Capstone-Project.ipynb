{
 "cells": [
  {
   "cell_type": "markdown",
   "metadata": {},
   "source": [
    "# Analyze the below Regression Model and answer the questions"
   ]
  },
  {
   "cell_type": "markdown",
   "metadata": {},
   "source": [
    "# Question 1: Why was the 'Linear Regression' algorithm chosen for this model?"
   ]
  },
  {
   "cell_type": "code",
   "execution_count": 31,
   "metadata": {},
   "outputs": [],
   "source": [
    "import pandas as pd\n",
    "import numpy as np\n",
    "import seaborn as sns\n",
    "import matplotlib.pyplot as plt\n",
    "%matplotlib inline\n",
    "from sklearn.cross_validation import train_test_split\n",
    "from sklearn.linear_model import LinearRegression\n",
    "import numpy as np\n",
    "from sklearn import metrics\n",
    "\n",
    "#Import the dataset\n",
    "url = 'https://raw.githubusercontent.com/upxacademy/ML_with_Python/master/Datasets/bikeshare.csv?token=AYxzdiGnjM610dBT7PuwUnUNOmm3bGcvks5ZFDyLwA%3D%3D'\n",
    "bikes = pd.read_csv(url, index_col='datetime', parse_dates=True)\n",
    "bikes.rename(columns={'count':'total'}, inplace=True)\n"
   ]
  },
  {
   "cell_type": "markdown",
   "metadata": {},
   "source": [
    "# Question 2: Why was 'temp' chosen as the input feature for this model?"
   ]
  },
  {
   "cell_type": "code",
   "execution_count": null,
   "metadata": {},
   "outputs": [],
   "source": [
    "X = bikes[['temp']]\n",
    "y = bikes.total\n",
    "X_train, X_test, y_train, y_test = train_test_split(X, y, random_state=3)\n",
    "model = LinearRegression()\n",
    "model.fit(X_train, y_train)\n",
    "y_pred = model.predict(X_test)\n",
    "y_train_pred = model.predict(X_train)"
   ]
  },
  {
   "cell_type": "markdown",
   "metadata": {},
   "source": [
    "# Question 3:How good is this model? Which metric will you choose to evaluate this model?"
   ]
  },
  {
   "cell_type": "code",
   "execution_count": null,
   "metadata": {},
   "outputs": [],
   "source": [
    "base_model_performance = np.sqrt(metrics.mean_squared_error(y_test, y_pred))\n",
    "print (\"Base Model Performance is\",base_model_performance)"
   ]
  },
  {
   "cell_type": "markdown",
   "metadata": {},
   "source": [
    "# Question 4: How do you benchmark this model?"
   ]
  },
  {
   "cell_type": "code",
   "execution_count": null,
   "metadata": {},
   "outputs": [],
   "source": [
    "#create a NumPy array with the same shape as y_test\n",
    "y_null = np.zeros_like(y_test, dtype=float)\n",
    "#fill the array with the mean value of y_test\n",
    "y_null.fill(y_test.mean())\n",
    "null_error = np.sqrt(metrics.mean_squared_error(y_test, y_null))\n",
    "if base_model_performance < null_error:\n",
    "   print ('Your model is better than random prediction')\n",
    "else:\n",
    "   print ('Uh..oh.Your model is worse than random predictions')"
   ]
  },
  {
   "cell_type": "markdown",
   "metadata": {},
   "source": [
    "# Question 5: Can you improve this model by creating a new feature?"
   ]
  },
  {
   "cell_type": "code",
   "execution_count": 28,
   "metadata": {},
   "outputs": [
    {
     "name": "stdout",
     "output_type": "stream",
     "text": [
      "146.38488865782014\n"
     ]
    }
   ],
   "source": [
    "#Feature engineering\n",
    "#Create a new numeric feature daytime based on hour value. If the time is between 6 am to 9 pm, the value of 'daytime' will be 1 and 0 otherwise.\n",
    "bikes['hour']=bikes.index.hour\n",
    "bikes['daytime'] = ((bikes.hour > 6) & (bikes.hour < 21)).astype(int)\n",
    "\n",
    "#Create a new model with 'daytime' as the input feature now\n",
    "X_new_feature = bikes[['daytime']]\n",
    "y=bikes.total\n",
    "X_new_train, X_new_test, y_new_train, y_new_test = train_test_split(X_new_feature, y)\n",
    "new_model = LinearRegression()\n",
    "new_model.fit(X_new_train,y_new_train)\n",
    "y_new_pred = new_model.predict(X_new_test)\n",
    "new_model_performance = np.sqrt(metrics.mean_squared_error(y_new_test, y_new_pred))\n",
    "print (new_model_performance)\n",
    "\n"
   ]
  },
  {
   "cell_type": "code",
   "execution_count": 29,
   "metadata": {},
   "outputs": [
    {
     "name": "stdout",
     "output_type": "stream",
     "text": [
      "Congratulations! You have improved the model by more than 10%.\n"
     ]
    }
   ],
   "source": [
    "val = ((base_model_performance - new_model_performance)/base_model_performance)*100\n",
    "if val>10:\n",
    "    print (\"Congratulations! You have improved the model by more than 10%.\")\n",
    "else:\n",
    "    print (\"Try again\") \n"
   ]
  },
  {
   "cell_type": "code",
   "execution_count": null,
   "metadata": {},
   "outputs": [],
   "source": []
  }
 ],
 "metadata": {
  "kernelspec": {
   "display_name": "Python 3",
   "language": "python",
   "name": "python3"
  },
  "language_info": {
   "codemirror_mode": {
    "name": "ipython",
    "version": 3
   },
   "file_extension": ".py",
   "mimetype": "text/x-python",
   "name": "python",
   "nbconvert_exporter": "python",
   "pygments_lexer": "ipython3",
   "version": "3.6.5"
  }
 },
 "nbformat": 4,
 "nbformat_minor": 2
}
