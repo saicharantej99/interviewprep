{
 "cells": [
  {
   "cell_type": "markdown",
   "metadata": {},
   "source": [
    "# Interview Preparation\n",
    "# Linear Regression"
   ]
  },
  {
   "cell_type": "markdown",
   "metadata": {},
   "source": [
    "## Agenda\n",
    "\n",
    "1. Introducing the bikeshare dataset\n",
    "    - Reading in the data\n",
    "2. Exploratory Data analysis\n",
    "    - Explore data\n",
    "    - Identify input and output features\n",
    "3. Build the model\n",
    "    - Choose the Algorithm\n",
    "    - Build a model using training data\n",
    "    - Evaluate the model on test data\n",
    "4. Benchmark the model\n",
    "    - Calculate Null Error\n",
    "    - Evaluate the model against null error\n",
    "    - Check for overfitting\n",
    "5. Improve the model\n",
    "    - Create a new feature\n",
    "    - Evaluate the model with the new feature as input\n",
    "    - Verify if the improvement is above 10%"
   ]
  },
  {
   "cell_type": "markdown",
   "metadata": {},
   "source": [
    "<h1>Bike Sharing Demand</h1>\n",
    "\n",
    "<h2>Forecast use of a city bikeshare system</h2>\n",
    "<p/>\n",
    "You are provided hourly rental data spanning two years. You must <b>predict the <u>total count of bikes rented</u> during each hour</b> covered by the test set, using only information available prior to the rental period.\n",
    "<p/>\n",
    "<b>Data Fields</b>\n",
    "<br/>\n",
    "datetime - hourly date + timestamp<br/>\n",
    "season -  1 = spring, 2 = summer, 3 = fall, 4 = winter <br/>\n",
    "holiday - whether the day is considered a holiday<br/>\n",
    "workingday - whether the day is neither a weekend nor holiday<br/>\n",
    "weather - 1: Clear, Few clouds, Partly cloudy, Partly cloudy \n",
    "2: Mist + Cloudy, Mist + Broken clouds, Mist + Few clouds, Mist \n",
    "3: Light Snow, Light Rain + Thunderstorm + Scattered clouds, Light Rain + Scattered clouds \n",
    "4: Heavy Rain + Ice Pallets + Thunderstorm + Mist, Snow + Fog <br/>\n",
    "temp - temperature in Celsius<br/>\n",
    "atemp - \"feels like\" temperature in Celsius<br/>\n",
    "humidity - relative humidity<br/>\n",
    "windspeed - wind speed<br/>\n",
    "casual - number of non-registered user rentals initiated<br/>\n",
    "registered - number of registered user rentals initiated<br/>\n",
    "count - number of total rentals<br/>"
   ]
  },
  {
   "cell_type": "markdown",
   "metadata": {},
   "source": [
    "## Reading in the data\n",
    "\n",
    "We'll be working with a dataset from Capital Bikeshare that was used in a Kaggle competition ([data dictionary](https://www.kaggle.com/c/bike-sharing-demand/data))."
   ]
  },
  {
   "cell_type": "code",
   "execution_count": 111,
   "metadata": {
    "scrolled": true
   },
   "outputs": [],
   "source": [
    "# read the data and set the datetime as the index\n",
    "import pandas as pd\n",
    "url = 'https://raw.githubusercontent.com/upxacademy/ML_with_Python/master/Datasets/bikeshare.csv?token=AYxzdiGnjM610dBT7PuwUnUNOmm3bGcvks5ZFDyLwA%3D%3D'\n",
    "bikes = pd.read_csv(url, index_col='datetime', parse_dates=True)"
   ]
  },
  {
   "cell_type": "code",
   "execution_count": 112,
   "metadata": {
    "scrolled": true
   },
   "outputs": [],
   "source": [
    "# \"count\" is a method, so it's best to name that column something else\n",
    "bikes.rename(columns={'count':'total'}, inplace=True)"
   ]
  },
  {
   "cell_type": "markdown",
   "metadata": {},
   "source": [
    "# Exploratory Data Analysis"
   ]
  },
  {
   "cell_type": "code",
   "execution_count": 113,
   "metadata": {
    "scrolled": true
   },
   "outputs": [
    {
     "data": {
      "text/html": [
       "<div>\n",
       "<style scoped>\n",
       "    .dataframe tbody tr th:only-of-type {\n",
       "        vertical-align: middle;\n",
       "    }\n",
       "\n",
       "    .dataframe tbody tr th {\n",
       "        vertical-align: top;\n",
       "    }\n",
       "\n",
       "    .dataframe thead th {\n",
       "        text-align: right;\n",
       "    }\n",
       "</style>\n",
       "<table border=\"1\" class=\"dataframe\">\n",
       "  <thead>\n",
       "    <tr style=\"text-align: right;\">\n",
       "      <th></th>\n",
       "      <th>season</th>\n",
       "      <th>holiday</th>\n",
       "      <th>workingday</th>\n",
       "      <th>weather</th>\n",
       "      <th>temp</th>\n",
       "      <th>atemp</th>\n",
       "      <th>humidity</th>\n",
       "      <th>windspeed</th>\n",
       "      <th>casual</th>\n",
       "      <th>registered</th>\n",
       "      <th>total</th>\n",
       "    </tr>\n",
       "  </thead>\n",
       "  <tbody>\n",
       "    <tr>\n",
       "      <th>count</th>\n",
       "      <td>10886.000000</td>\n",
       "      <td>10886.000000</td>\n",
       "      <td>10886.000000</td>\n",
       "      <td>10886.000000</td>\n",
       "      <td>10886.00000</td>\n",
       "      <td>10886.000000</td>\n",
       "      <td>10886.000000</td>\n",
       "      <td>10886.000000</td>\n",
       "      <td>10886.000000</td>\n",
       "      <td>10886.000000</td>\n",
       "      <td>10886.000000</td>\n",
       "    </tr>\n",
       "    <tr>\n",
       "      <th>mean</th>\n",
       "      <td>2.506614</td>\n",
       "      <td>0.028569</td>\n",
       "      <td>0.680875</td>\n",
       "      <td>1.418427</td>\n",
       "      <td>20.23086</td>\n",
       "      <td>23.655084</td>\n",
       "      <td>61.886460</td>\n",
       "      <td>12.799395</td>\n",
       "      <td>36.021955</td>\n",
       "      <td>155.552177</td>\n",
       "      <td>191.574132</td>\n",
       "    </tr>\n",
       "    <tr>\n",
       "      <th>std</th>\n",
       "      <td>1.116174</td>\n",
       "      <td>0.166599</td>\n",
       "      <td>0.466159</td>\n",
       "      <td>0.633839</td>\n",
       "      <td>7.79159</td>\n",
       "      <td>8.474601</td>\n",
       "      <td>19.245033</td>\n",
       "      <td>8.164537</td>\n",
       "      <td>49.960477</td>\n",
       "      <td>151.039033</td>\n",
       "      <td>181.144454</td>\n",
       "    </tr>\n",
       "    <tr>\n",
       "      <th>min</th>\n",
       "      <td>1.000000</td>\n",
       "      <td>0.000000</td>\n",
       "      <td>0.000000</td>\n",
       "      <td>1.000000</td>\n",
       "      <td>0.82000</td>\n",
       "      <td>0.760000</td>\n",
       "      <td>0.000000</td>\n",
       "      <td>0.000000</td>\n",
       "      <td>0.000000</td>\n",
       "      <td>0.000000</td>\n",
       "      <td>1.000000</td>\n",
       "    </tr>\n",
       "    <tr>\n",
       "      <th>25%</th>\n",
       "      <td>2.000000</td>\n",
       "      <td>0.000000</td>\n",
       "      <td>0.000000</td>\n",
       "      <td>1.000000</td>\n",
       "      <td>13.94000</td>\n",
       "      <td>16.665000</td>\n",
       "      <td>47.000000</td>\n",
       "      <td>7.001500</td>\n",
       "      <td>4.000000</td>\n",
       "      <td>36.000000</td>\n",
       "      <td>42.000000</td>\n",
       "    </tr>\n",
       "    <tr>\n",
       "      <th>50%</th>\n",
       "      <td>3.000000</td>\n",
       "      <td>0.000000</td>\n",
       "      <td>1.000000</td>\n",
       "      <td>1.000000</td>\n",
       "      <td>20.50000</td>\n",
       "      <td>24.240000</td>\n",
       "      <td>62.000000</td>\n",
       "      <td>12.998000</td>\n",
       "      <td>17.000000</td>\n",
       "      <td>118.000000</td>\n",
       "      <td>145.000000</td>\n",
       "    </tr>\n",
       "    <tr>\n",
       "      <th>75%</th>\n",
       "      <td>4.000000</td>\n",
       "      <td>0.000000</td>\n",
       "      <td>1.000000</td>\n",
       "      <td>2.000000</td>\n",
       "      <td>26.24000</td>\n",
       "      <td>31.060000</td>\n",
       "      <td>77.000000</td>\n",
       "      <td>16.997900</td>\n",
       "      <td>49.000000</td>\n",
       "      <td>222.000000</td>\n",
       "      <td>284.000000</td>\n",
       "    </tr>\n",
       "    <tr>\n",
       "      <th>max</th>\n",
       "      <td>4.000000</td>\n",
       "      <td>1.000000</td>\n",
       "      <td>1.000000</td>\n",
       "      <td>4.000000</td>\n",
       "      <td>41.00000</td>\n",
       "      <td>45.455000</td>\n",
       "      <td>100.000000</td>\n",
       "      <td>56.996900</td>\n",
       "      <td>367.000000</td>\n",
       "      <td>886.000000</td>\n",
       "      <td>977.000000</td>\n",
       "    </tr>\n",
       "  </tbody>\n",
       "</table>\n",
       "</div>"
      ],
      "text/plain": [
       "             season       holiday    workingday       weather         temp  \\\n",
       "count  10886.000000  10886.000000  10886.000000  10886.000000  10886.00000   \n",
       "mean       2.506614      0.028569      0.680875      1.418427     20.23086   \n",
       "std        1.116174      0.166599      0.466159      0.633839      7.79159   \n",
       "min        1.000000      0.000000      0.000000      1.000000      0.82000   \n",
       "25%        2.000000      0.000000      0.000000      1.000000     13.94000   \n",
       "50%        3.000000      0.000000      1.000000      1.000000     20.50000   \n",
       "75%        4.000000      0.000000      1.000000      2.000000     26.24000   \n",
       "max        4.000000      1.000000      1.000000      4.000000     41.00000   \n",
       "\n",
       "              atemp      humidity     windspeed        casual    registered  \\\n",
       "count  10886.000000  10886.000000  10886.000000  10886.000000  10886.000000   \n",
       "mean      23.655084     61.886460     12.799395     36.021955    155.552177   \n",
       "std        8.474601     19.245033      8.164537     49.960477    151.039033   \n",
       "min        0.760000      0.000000      0.000000      0.000000      0.000000   \n",
       "25%       16.665000     47.000000      7.001500      4.000000     36.000000   \n",
       "50%       24.240000     62.000000     12.998000     17.000000    118.000000   \n",
       "75%       31.060000     77.000000     16.997900     49.000000    222.000000   \n",
       "max       45.455000    100.000000     56.996900    367.000000    886.000000   \n",
       "\n",
       "              total  \n",
       "count  10886.000000  \n",
       "mean     191.574132  \n",
       "std      181.144454  \n",
       "min        1.000000  \n",
       "25%       42.000000  \n",
       "50%      145.000000  \n",
       "75%      284.000000  \n",
       "max      977.000000  "
      ]
     },
     "execution_count": 113,
     "metadata": {},
     "output_type": "execute_result"
    }
   ],
   "source": [
    "# Placeholder for any queries\n",
    "#bikes.dtypes\n",
    "bikes.describe()"
   ]
  },
  {
   "cell_type": "code",
   "execution_count": 114,
   "metadata": {
    "scrolled": true
   },
   "outputs": [],
   "source": [
    "import seaborn as sns\n",
    "import matplotlib.pyplot as plt\n",
    "%matplotlib inline\n"
   ]
  },
  {
   "cell_type": "code",
   "execution_count": 115,
   "metadata": {
    "scrolled": true
   },
   "outputs": [
    {
     "data": {
      "text/plain": [
       "<seaborn.axisgrid.FacetGrid at 0x1840fa69a20>"
      ]
     },
     "execution_count": 115,
     "metadata": {},
     "output_type": "execute_result"
    },
    {
     "data": {
      "image/png": "[encoded data removed]",
      "text/plain": [
       "<Figure size 540x360 with 1 Axes>"
      ]
     },
     "metadata": {},
     "output_type": "display_data"
    }
   ],
   "source": [
    "# Seaborn scatter plot with regression line\n",
    "sns.lmplot(x='temp', y='total', fit_reg=False, data=bikes, aspect=1.5, scatter_kws={'alpha':0.9})"
   ]
  },
  {
   "cell_type": "markdown",
   "metadata": {},
   "source": [
    "# Build the model"
   ]
  },
  {
   "cell_type": "markdown",
   "metadata": {},
   "source": [
    "Split the data into training and test data and apply linear regression"
   ]
  },
  {
   "cell_type": "code",
   "execution_count": 117,
   "metadata": {},
   "outputs": [],
   "source": [
    "from sklearn.cross_validation import train_test_split\n",
    "from sklearn.linear_model import LinearRegression\n",
    "import numpy as np\n",
    "from sklearn import metrics\n",
    "# define a function that accepts a list of features and returns testing RMSE\n",
    "def train_test_eval(feature_cols):\n",
    "    X = bikes[feature_cols]\n",
    "    y = bikes.total\n",
    "    X_train, X_test, y_train, y_test = train_test_split(X, y, random_state=3)\n",
    "    linreg = LinearRegression()\n",
    "    linreg.fit(X_train, y_train)\n",
    "    y_pred = linreg.predict(X_test)\n",
    "    \n",
    "    return np.sqrt(metrics.mean_squared_error(y_test, y_pred))"
   ]
  },
  {
   "cell_type": "markdown",
   "metadata": {},
   "source": [
    "Calculate the rmse for the model when 'temp' is the input feature selected"
   ]
  },
  {
   "cell_type": "code",
   "execution_count": 118,
   "metadata": {},
   "outputs": [
    {
     "data": {
      "text/plain": [
       "164.63700779531732"
      ]
     },
     "execution_count": 118,
     "metadata": {},
     "output_type": "execute_result"
    }
   ],
   "source": [
    "base_model_performance = train_test_rmse(['temp'])\n",
    "base_model_performance"
   ]
  },
  {
   "cell_type": "markdown",
   "metadata": {},
   "source": [
    "## Benchmark the model\n",
    "\n",
    "Null RMSE is the RMSE that could be achieved by **always predicting the mean response value**. It is a benchmark against which you may want to measure your regression model."
   ]
  },
  {
   "cell_type": "code",
   "execution_count": 119,
   "metadata": {
    "scrolled": true
   },
   "outputs": [
    {
     "data": {
      "text/plain": [
       "array([190.7325496, 190.7325496, 190.7325496, ..., 190.7325496,\n",
       "       190.7325496, 190.7325496])"
      ]
     },
     "execution_count": 119,
     "metadata": {},
     "output_type": "execute_result"
    }
   ],
   "source": [
    "# split X and y into training and testing sets\n",
    "X_train, X_test, y_train, y_test = train_test_split(X, y, random_state=3)\n",
    "\n",
    "# create a NumPy array with the same shape as y_test\n",
    "y_null = np.zeros_like(y_test, dtype=float)\n",
    "\n",
    "# fill the array with the mean value of y_test\n",
    "y_null.fill(y_test.mean())\n",
    "y_null"
   ]
  },
  {
   "cell_type": "code",
   "execution_count": 120,
   "metadata": {
    "scrolled": true
   },
   "outputs": [
    {
     "data": {
      "text/plain": [
       "180.44820035417416"
      ]
     },
     "execution_count": 120,
     "metadata": {},
     "output_type": "execute_result"
    }
   ],
   "source": [
    "# compute null RMSE\n",
    "null_error = np.sqrt(metrics.mean_squared_error(y_test, y_null))\n",
    "null_error"
   ]
  },
  {
   "cell_type": "code",
   "execution_count": 121,
   "metadata": {},
   "outputs": [
    {
     "name": "stdout",
     "output_type": "stream",
     "text": [
      "Your model is better than random prediction\n"
     ]
    }
   ],
   "source": [
    "if base_model_performance < null_error:\n",
    "   print ('Your model is better than random prediction')\n",
    "else:\n",
    "   print ('Uh..oh.Your model is worse than random predictions')\n"
   ]
  },
  {
   "cell_type": "markdown",
   "metadata": {},
   "source": [
    "# Check if the model is overfitted"
   ]
  },
  {
   "cell_type": "code",
   "execution_count": 122,
   "metadata": {},
   "outputs": [
    {
     "data": {
      "text/plain": [
       "LinearRegression(copy_X=True, fit_intercept=True, n_jobs=1, normalize=False)"
      ]
     },
     "execution_count": 122,
     "metadata": {},
     "output_type": "execute_result"
    }
   ],
   "source": [
    "linreg = LinearRegression()\n",
    "linreg.fit(X_train,y_train)"
   ]
  },
  {
   "cell_type": "code",
   "execution_count": 123,
   "metadata": {},
   "outputs": [],
   "source": [
    "y_train_pred = linreg.predict(X_train)"
   ]
  },
  {
   "cell_type": "code",
   "execution_count": 124,
   "metadata": {},
   "outputs": [],
   "source": [
    "training_accuracy = np.sqrt(metrics.mean_squared_error(y_train,y_train_pred))"
   ]
  },
  {
   "cell_type": "markdown",
   "metadata": {},
   "source": [
    "A good rule of thumb is that the difference between the RMSE values on training and testing data should not be more than 20"
   ]
  },
  {
   "cell_type": "code",
   "execution_count": 125,
   "metadata": {},
   "outputs": [
    {
     "name": "stdout",
     "output_type": "stream",
     "text": [
      "There is no overfitting\n"
     ]
    }
   ],
   "source": [
    "if ((training_accuracy - base_model_performance) <= 20):\n",
    "    print (\"There is no overfitting\")\n",
    "else:\n",
    "    print (\"Your model seems to be overfitted\")"
   ]
  },
  {
   "cell_type": "markdown",
   "metadata": {},
   "source": [
    "# Improve the model"
   ]
  },
  {
   "cell_type": "markdown",
   "metadata": {},
   "source": [
    "## Feature engineering\n",
    "\n",
    "See if you can create the following features:\n",
    "\n",
    "- **hour:** as a single numeric feature (0 through 23)\n",
    "- **daytime:** as a single categorical feature (daytime=1 from 7am to 8pm, and daytime=0 otherwise)\n",
    "\n",
    "Then, try using each of the three features (on its own) with `train_test_rmse` to see which one performs the best!"
   ]
  },
  {
   "cell_type": "code",
   "execution_count": 126,
   "metadata": {
    "scrolled": true
   },
   "outputs": [],
   "source": [
    "# hour as a numeric feature\n",
    "bikes['hour'] = bikes.index.hour"
   ]
  },
  {
   "cell_type": "code",
   "execution_count": 127,
   "metadata": {
    "scrolled": true
   },
   "outputs": [
    {
     "data": {
      "text/html": [
       "<div>\n",
       "<style scoped>\n",
       "    .dataframe tbody tr th:only-of-type {\n",
       "        vertical-align: middle;\n",
       "    }\n",
       "\n",
       "    .dataframe tbody tr th {\n",
       "        vertical-align: top;\n",
       "    }\n",
       "\n",
       "    .dataframe thead th {\n",
       "        text-align: right;\n",
       "    }\n",
       "</style>\n",
       "<table border=\"1\" class=\"dataframe\">\n",
       "  <thead>\n",
       "    <tr style=\"text-align: right;\">\n",
       "      <th></th>\n",
       "      <th>season</th>\n",
       "      <th>holiday</th>\n",
       "      <th>workingday</th>\n",
       "      <th>weather</th>\n",
       "      <th>temp</th>\n",
       "      <th>atemp</th>\n",
       "      <th>humidity</th>\n",
       "      <th>windspeed</th>\n",
       "      <th>casual</th>\n",
       "      <th>registered</th>\n",
       "      <th>total</th>\n",
       "      <th>hour</th>\n",
       "      <th>daytime</th>\n",
       "    </tr>\n",
       "    <tr>\n",
       "      <th>datetime</th>\n",
       "      <th></th>\n",
       "      <th></th>\n",
       "      <th></th>\n",
       "      <th></th>\n",
       "      <th></th>\n",
       "      <th></th>\n",
       "      <th></th>\n",
       "      <th></th>\n",
       "      <th></th>\n",
       "      <th></th>\n",
       "      <th></th>\n",
       "      <th></th>\n",
       "      <th></th>\n",
       "    </tr>\n",
       "  </thead>\n",
       "  <tbody>\n",
       "    <tr>\n",
       "      <th>2011-01-01 00:00:00</th>\n",
       "      <td>1</td>\n",
       "      <td>0</td>\n",
       "      <td>0</td>\n",
       "      <td>1</td>\n",
       "      <td>9.84</td>\n",
       "      <td>14.395</td>\n",
       "      <td>81</td>\n",
       "      <td>0.0000</td>\n",
       "      <td>3</td>\n",
       "      <td>13</td>\n",
       "      <td>16</td>\n",
       "      <td>0</td>\n",
       "      <td>0</td>\n",
       "    </tr>\n",
       "    <tr>\n",
       "      <th>2011-01-01 01:00:00</th>\n",
       "      <td>1</td>\n",
       "      <td>0</td>\n",
       "      <td>0</td>\n",
       "      <td>1</td>\n",
       "      <td>9.02</td>\n",
       "      <td>13.635</td>\n",
       "      <td>80</td>\n",
       "      <td>0.0000</td>\n",
       "      <td>8</td>\n",
       "      <td>32</td>\n",
       "      <td>40</td>\n",
       "      <td>1</td>\n",
       "      <td>0</td>\n",
       "    </tr>\n",
       "    <tr>\n",
       "      <th>2011-01-01 02:00:00</th>\n",
       "      <td>1</td>\n",
       "      <td>0</td>\n",
       "      <td>0</td>\n",
       "      <td>1</td>\n",
       "      <td>9.02</td>\n",
       "      <td>13.635</td>\n",
       "      <td>80</td>\n",
       "      <td>0.0000</td>\n",
       "      <td>5</td>\n",
       "      <td>27</td>\n",
       "      <td>32</td>\n",
       "      <td>2</td>\n",
       "      <td>0</td>\n",
       "    </tr>\n",
       "    <tr>\n",
       "      <th>2011-01-01 03:00:00</th>\n",
       "      <td>1</td>\n",
       "      <td>0</td>\n",
       "      <td>0</td>\n",
       "      <td>1</td>\n",
       "      <td>9.84</td>\n",
       "      <td>14.395</td>\n",
       "      <td>75</td>\n",
       "      <td>0.0000</td>\n",
       "      <td>3</td>\n",
       "      <td>10</td>\n",
       "      <td>13</td>\n",
       "      <td>3</td>\n",
       "      <td>0</td>\n",
       "    </tr>\n",
       "    <tr>\n",
       "      <th>2011-01-01 04:00:00</th>\n",
       "      <td>1</td>\n",
       "      <td>0</td>\n",
       "      <td>0</td>\n",
       "      <td>1</td>\n",
       "      <td>9.84</td>\n",
       "      <td>14.395</td>\n",
       "      <td>75</td>\n",
       "      <td>0.0000</td>\n",
       "      <td>0</td>\n",
       "      <td>1</td>\n",
       "      <td>1</td>\n",
       "      <td>4</td>\n",
       "      <td>0</td>\n",
       "    </tr>\n",
       "    <tr>\n",
       "      <th>2011-01-01 05:00:00</th>\n",
       "      <td>1</td>\n",
       "      <td>0</td>\n",
       "      <td>0</td>\n",
       "      <td>2</td>\n",
       "      <td>9.84</td>\n",
       "      <td>12.880</td>\n",
       "      <td>75</td>\n",
       "      <td>6.0032</td>\n",
       "      <td>0</td>\n",
       "      <td>1</td>\n",
       "      <td>1</td>\n",
       "      <td>5</td>\n",
       "      <td>0</td>\n",
       "    </tr>\n",
       "    <tr>\n",
       "      <th>2011-01-01 06:00:00</th>\n",
       "      <td>1</td>\n",
       "      <td>0</td>\n",
       "      <td>0</td>\n",
       "      <td>1</td>\n",
       "      <td>9.02</td>\n",
       "      <td>13.635</td>\n",
       "      <td>80</td>\n",
       "      <td>0.0000</td>\n",
       "      <td>2</td>\n",
       "      <td>0</td>\n",
       "      <td>2</td>\n",
       "      <td>6</td>\n",
       "      <td>0</td>\n",
       "    </tr>\n",
       "    <tr>\n",
       "      <th>2011-01-01 07:00:00</th>\n",
       "      <td>1</td>\n",
       "      <td>0</td>\n",
       "      <td>0</td>\n",
       "      <td>1</td>\n",
       "      <td>8.20</td>\n",
       "      <td>12.880</td>\n",
       "      <td>86</td>\n",
       "      <td>0.0000</td>\n",
       "      <td>1</td>\n",
       "      <td>2</td>\n",
       "      <td>3</td>\n",
       "      <td>7</td>\n",
       "      <td>1</td>\n",
       "    </tr>\n",
       "    <tr>\n",
       "      <th>2011-01-01 08:00:00</th>\n",
       "      <td>1</td>\n",
       "      <td>0</td>\n",
       "      <td>0</td>\n",
       "      <td>1</td>\n",
       "      <td>9.84</td>\n",
       "      <td>14.395</td>\n",
       "      <td>75</td>\n",
       "      <td>0.0000</td>\n",
       "      <td>1</td>\n",
       "      <td>7</td>\n",
       "      <td>8</td>\n",
       "      <td>8</td>\n",
       "      <td>1</td>\n",
       "    </tr>\n",
       "    <tr>\n",
       "      <th>2011-01-01 09:00:00</th>\n",
       "      <td>1</td>\n",
       "      <td>0</td>\n",
       "      <td>0</td>\n",
       "      <td>1</td>\n",
       "      <td>13.12</td>\n",
       "      <td>17.425</td>\n",
       "      <td>76</td>\n",
       "      <td>0.0000</td>\n",
       "      <td>8</td>\n",
       "      <td>6</td>\n",
       "      <td>14</td>\n",
       "      <td>9</td>\n",
       "      <td>1</td>\n",
       "    </tr>\n",
       "    <tr>\n",
       "      <th>2011-01-01 10:00:00</th>\n",
       "      <td>1</td>\n",
       "      <td>0</td>\n",
       "      <td>0</td>\n",
       "      <td>1</td>\n",
       "      <td>15.58</td>\n",
       "      <td>19.695</td>\n",
       "      <td>76</td>\n",
       "      <td>16.9979</td>\n",
       "      <td>12</td>\n",
       "      <td>24</td>\n",
       "      <td>36</td>\n",
       "      <td>10</td>\n",
       "      <td>1</td>\n",
       "    </tr>\n",
       "    <tr>\n",
       "      <th>2011-01-01 11:00:00</th>\n",
       "      <td>1</td>\n",
       "      <td>0</td>\n",
       "      <td>0</td>\n",
       "      <td>1</td>\n",
       "      <td>14.76</td>\n",
       "      <td>16.665</td>\n",
       "      <td>81</td>\n",
       "      <td>19.0012</td>\n",
       "      <td>26</td>\n",
       "      <td>30</td>\n",
       "      <td>56</td>\n",
       "      <td>11</td>\n",
       "      <td>1</td>\n",
       "    </tr>\n",
       "    <tr>\n",
       "      <th>2011-01-01 12:00:00</th>\n",
       "      <td>1</td>\n",
       "      <td>0</td>\n",
       "      <td>0</td>\n",
       "      <td>1</td>\n",
       "      <td>17.22</td>\n",
       "      <td>21.210</td>\n",
       "      <td>77</td>\n",
       "      <td>19.0012</td>\n",
       "      <td>29</td>\n",
       "      <td>55</td>\n",
       "      <td>84</td>\n",
       "      <td>12</td>\n",
       "      <td>1</td>\n",
       "    </tr>\n",
       "    <tr>\n",
       "      <th>2011-01-01 13:00:00</th>\n",
       "      <td>1</td>\n",
       "      <td>0</td>\n",
       "      <td>0</td>\n",
       "      <td>2</td>\n",
       "      <td>18.86</td>\n",
       "      <td>22.725</td>\n",
       "      <td>72</td>\n",
       "      <td>19.9995</td>\n",
       "      <td>47</td>\n",
       "      <td>47</td>\n",
       "      <td>94</td>\n",
       "      <td>13</td>\n",
       "      <td>1</td>\n",
       "    </tr>\n",
       "    <tr>\n",
       "      <th>2011-01-01 14:00:00</th>\n",
       "      <td>1</td>\n",
       "      <td>0</td>\n",
       "      <td>0</td>\n",
       "      <td>2</td>\n",
       "      <td>18.86</td>\n",
       "      <td>22.725</td>\n",
       "      <td>72</td>\n",
       "      <td>19.0012</td>\n",
       "      <td>35</td>\n",
       "      <td>71</td>\n",
       "      <td>106</td>\n",
       "      <td>14</td>\n",
       "      <td>1</td>\n",
       "    </tr>\n",
       "    <tr>\n",
       "      <th>2011-01-01 15:00:00</th>\n",
       "      <td>1</td>\n",
       "      <td>0</td>\n",
       "      <td>0</td>\n",
       "      <td>2</td>\n",
       "      <td>18.04</td>\n",
       "      <td>21.970</td>\n",
       "      <td>77</td>\n",
       "      <td>19.9995</td>\n",
       "      <td>40</td>\n",
       "      <td>70</td>\n",
       "      <td>110</td>\n",
       "      <td>15</td>\n",
       "      <td>1</td>\n",
       "    </tr>\n",
       "    <tr>\n",
       "      <th>2011-01-01 16:00:00</th>\n",
       "      <td>1</td>\n",
       "      <td>0</td>\n",
       "      <td>0</td>\n",
       "      <td>2</td>\n",
       "      <td>17.22</td>\n",
       "      <td>21.210</td>\n",
       "      <td>82</td>\n",
       "      <td>19.9995</td>\n",
       "      <td>41</td>\n",
       "      <td>52</td>\n",
       "      <td>93</td>\n",
       "      <td>16</td>\n",
       "      <td>1</td>\n",
       "    </tr>\n",
       "    <tr>\n",
       "      <th>2011-01-01 17:00:00</th>\n",
       "      <td>1</td>\n",
       "      <td>0</td>\n",
       "      <td>0</td>\n",
       "      <td>2</td>\n",
       "      <td>18.04</td>\n",
       "      <td>21.970</td>\n",
       "      <td>82</td>\n",
       "      <td>19.0012</td>\n",
       "      <td>15</td>\n",
       "      <td>52</td>\n",
       "      <td>67</td>\n",
       "      <td>17</td>\n",
       "      <td>1</td>\n",
       "    </tr>\n",
       "    <tr>\n",
       "      <th>2011-01-01 18:00:00</th>\n",
       "      <td>1</td>\n",
       "      <td>0</td>\n",
       "      <td>0</td>\n",
       "      <td>3</td>\n",
       "      <td>17.22</td>\n",
       "      <td>21.210</td>\n",
       "      <td>88</td>\n",
       "      <td>16.9979</td>\n",
       "      <td>9</td>\n",
       "      <td>26</td>\n",
       "      <td>35</td>\n",
       "      <td>18</td>\n",
       "      <td>1</td>\n",
       "    </tr>\n",
       "    <tr>\n",
       "      <th>2011-01-01 19:00:00</th>\n",
       "      <td>1</td>\n",
       "      <td>0</td>\n",
       "      <td>0</td>\n",
       "      <td>3</td>\n",
       "      <td>17.22</td>\n",
       "      <td>21.210</td>\n",
       "      <td>88</td>\n",
       "      <td>16.9979</td>\n",
       "      <td>6</td>\n",
       "      <td>31</td>\n",
       "      <td>37</td>\n",
       "      <td>19</td>\n",
       "      <td>1</td>\n",
       "    </tr>\n",
       "    <tr>\n",
       "      <th>2011-01-01 20:00:00</th>\n",
       "      <td>1</td>\n",
       "      <td>0</td>\n",
       "      <td>0</td>\n",
       "      <td>2</td>\n",
       "      <td>16.40</td>\n",
       "      <td>20.455</td>\n",
       "      <td>87</td>\n",
       "      <td>16.9979</td>\n",
       "      <td>11</td>\n",
       "      <td>25</td>\n",
       "      <td>36</td>\n",
       "      <td>20</td>\n",
       "      <td>1</td>\n",
       "    </tr>\n",
       "    <tr>\n",
       "      <th>2011-01-01 21:00:00</th>\n",
       "      <td>1</td>\n",
       "      <td>0</td>\n",
       "      <td>0</td>\n",
       "      <td>2</td>\n",
       "      <td>16.40</td>\n",
       "      <td>20.455</td>\n",
       "      <td>87</td>\n",
       "      <td>12.9980</td>\n",
       "      <td>3</td>\n",
       "      <td>31</td>\n",
       "      <td>34</td>\n",
       "      <td>21</td>\n",
       "      <td>0</td>\n",
       "    </tr>\n",
       "    <tr>\n",
       "      <th>2011-01-01 22:00:00</th>\n",
       "      <td>1</td>\n",
       "      <td>0</td>\n",
       "      <td>0</td>\n",
       "      <td>2</td>\n",
       "      <td>16.40</td>\n",
       "      <td>20.455</td>\n",
       "      <td>94</td>\n",
       "      <td>15.0013</td>\n",
       "      <td>11</td>\n",
       "      <td>17</td>\n",
       "      <td>28</td>\n",
       "      <td>22</td>\n",
       "      <td>0</td>\n",
       "    </tr>\n",
       "    <tr>\n",
       "      <th>2011-01-01 23:00:00</th>\n",
       "      <td>1</td>\n",
       "      <td>0</td>\n",
       "      <td>0</td>\n",
       "      <td>2</td>\n",
       "      <td>18.86</td>\n",
       "      <td>22.725</td>\n",
       "      <td>88</td>\n",
       "      <td>19.9995</td>\n",
       "      <td>15</td>\n",
       "      <td>24</td>\n",
       "      <td>39</td>\n",
       "      <td>23</td>\n",
       "      <td>0</td>\n",
       "    </tr>\n",
       "    <tr>\n",
       "      <th>2011-01-02 00:00:00</th>\n",
       "      <td>1</td>\n",
       "      <td>0</td>\n",
       "      <td>0</td>\n",
       "      <td>2</td>\n",
       "      <td>18.86</td>\n",
       "      <td>22.725</td>\n",
       "      <td>88</td>\n",
       "      <td>19.9995</td>\n",
       "      <td>4</td>\n",
       "      <td>13</td>\n",
       "      <td>17</td>\n",
       "      <td>0</td>\n",
       "      <td>0</td>\n",
       "    </tr>\n",
       "  </tbody>\n",
       "</table>\n",
       "</div>"
      ],
      "text/plain": [
       "                     season  holiday  workingday  weather   temp   atemp  \\\n",
       "datetime                                                                   \n",
       "2011-01-01 00:00:00       1        0           0        1   9.84  14.395   \n",
       "2011-01-01 01:00:00       1        0           0        1   9.02  13.635   \n",
       "2011-01-01 02:00:00       1        0           0        1   9.02  13.635   \n",
       "2011-01-01 03:00:00       1        0           0        1   9.84  14.395   \n",
       "2011-01-01 04:00:00       1        0           0        1   9.84  14.395   \n",
       "2011-01-01 05:00:00       1        0           0        2   9.84  12.880   \n",
       "2011-01-01 06:00:00       1        0           0        1   9.02  13.635   \n",
       "2011-01-01 07:00:00       1        0           0        1   8.20  12.880   \n",
       "2011-01-01 08:00:00       1        0           0        1   9.84  14.395   \n",
       "2011-01-01 09:00:00       1        0           0        1  13.12  17.425   \n",
       "2011-01-01 10:00:00       1        0           0        1  15.58  19.695   \n",
       "2011-01-01 11:00:00       1        0           0        1  14.76  16.665   \n",
       "2011-01-01 12:00:00       1        0           0        1  17.22  21.210   \n",
       "2011-01-01 13:00:00       1        0           0        2  18.86  22.725   \n",
       "2011-01-01 14:00:00       1        0           0        2  18.86  22.725   \n",
       "2011-01-01 15:00:00       1        0           0        2  18.04  21.970   \n",
       "2011-01-01 16:00:00       1        0           0        2  17.22  21.210   \n",
       "2011-01-01 17:00:00       1        0           0        2  18.04  21.970   \n",
       "2011-01-01 18:00:00       1        0           0        3  17.22  21.210   \n",
       "2011-01-01 19:00:00       1        0           0        3  17.22  21.210   \n",
       "2011-01-01 20:00:00       1        0           0        2  16.40  20.455   \n",
       "2011-01-01 21:00:00       1        0           0        2  16.40  20.455   \n",
       "2011-01-01 22:00:00       1        0           0        2  16.40  20.455   \n",
       "2011-01-01 23:00:00       1        0           0        2  18.86  22.725   \n",
       "2011-01-02 00:00:00       1        0           0        2  18.86  22.725   \n",
       "\n",
       "                     humidity  windspeed  casual  registered  total  hour  \\\n",
       "datetime                                                                    \n",
       "2011-01-01 00:00:00        81     0.0000       3          13     16     0   \n",
       "2011-01-01 01:00:00        80     0.0000       8          32     40     1   \n",
       "2011-01-01 02:00:00        80     0.0000       5          27     32     2   \n",
       "2011-01-01 03:00:00        75     0.0000       3          10     13     3   \n",
       "2011-01-01 04:00:00        75     0.0000       0           1      1     4   \n",
       "2011-01-01 05:00:00        75     6.0032       0           1      1     5   \n",
       "2011-01-01 06:00:00        80     0.0000       2           0      2     6   \n",
       "2011-01-01 07:00:00        86     0.0000       1           2      3     7   \n",
       "2011-01-01 08:00:00        75     0.0000       1           7      8     8   \n",
       "2011-01-01 09:00:00        76     0.0000       8           6     14     9   \n",
       "2011-01-01 10:00:00        76    16.9979      12          24     36    10   \n",
       "2011-01-01 11:00:00        81    19.0012      26          30     56    11   \n",
       "2011-01-01 12:00:00        77    19.0012      29          55     84    12   \n",
       "2011-01-01 13:00:00        72    19.9995      47          47     94    13   \n",
       "2011-01-01 14:00:00        72    19.0012      35          71    106    14   \n",
       "2011-01-01 15:00:00        77    19.9995      40          70    110    15   \n",
       "2011-01-01 16:00:00        82    19.9995      41          52     93    16   \n",
       "2011-01-01 17:00:00        82    19.0012      15          52     67    17   \n",
       "2011-01-01 18:00:00        88    16.9979       9          26     35    18   \n",
       "2011-01-01 19:00:00        88    16.9979       6          31     37    19   \n",
       "2011-01-01 20:00:00        87    16.9979      11          25     36    20   \n",
       "2011-01-01 21:00:00        87    12.9980       3          31     34    21   \n",
       "2011-01-01 22:00:00        94    15.0013      11          17     28    22   \n",
       "2011-01-01 23:00:00        88    19.9995      15          24     39    23   \n",
       "2011-01-02 00:00:00        88    19.9995       4          13     17     0   \n",
       "\n",
       "                     daytime  \n",
       "datetime                      \n",
       "2011-01-01 00:00:00        0  \n",
       "2011-01-01 01:00:00        0  \n",
       "2011-01-01 02:00:00        0  \n",
       "2011-01-01 03:00:00        0  \n",
       "2011-01-01 04:00:00        0  \n",
       "2011-01-01 05:00:00        0  \n",
       "2011-01-01 06:00:00        0  \n",
       "2011-01-01 07:00:00        1  \n",
       "2011-01-01 08:00:00        1  \n",
       "2011-01-01 09:00:00        1  \n",
       "2011-01-01 10:00:00        1  \n",
       "2011-01-01 11:00:00        1  \n",
       "2011-01-01 12:00:00        1  \n",
       "2011-01-01 13:00:00        1  \n",
       "2011-01-01 14:00:00        1  \n",
       "2011-01-01 15:00:00        1  \n",
       "2011-01-01 16:00:00        1  \n",
       "2011-01-01 17:00:00        1  \n",
       "2011-01-01 18:00:00        1  \n",
       "2011-01-01 19:00:00        1  \n",
       "2011-01-01 20:00:00        1  \n",
       "2011-01-01 21:00:00        0  \n",
       "2011-01-01 22:00:00        0  \n",
       "2011-01-01 23:00:00        0  \n",
       "2011-01-02 00:00:00        0  "
      ]
     },
     "execution_count": 127,
     "metadata": {},
     "output_type": "execute_result"
    }
   ],
   "source": [
    "# daytime as a categorical feature\n",
    "bikes['daytime'] = ((bikes.hour > 6) & (bikes.hour < 21)).astype(int)\n",
    "bikes.head(25)"
   ]
  },
  {
   "cell_type": "markdown",
   "metadata": {},
   "source": [
    "Check if the new model performance got improved with the input feature as 'daytime'"
   ]
  },
  {
   "cell_type": "code",
   "execution_count": 128,
   "metadata": {},
   "outputs": [],
   "source": [
    "new_model_performance = train_test_rmse(['daytime'])"
   ]
  },
  {
   "cell_type": "code",
   "execution_count": 129,
   "metadata": {},
   "outputs": [],
   "source": [
    "val = ((base_model_performance - new_model_performance)/base_model_performance)*100"
   ]
  },
  {
   "cell_type": "code",
   "execution_count": 130,
   "metadata": {},
   "outputs": [
    {
     "name": "stdout",
     "output_type": "stream",
     "text": [
      "Congratulations!You have improved the model by more than 10%\n"
     ]
    }
   ],
   "source": [
    "if val>10:\n",
    "    print (\"Congratulations! You have improved the model by more than 10%\")\n",
    "else:\n",
    "    print (\"Try again\")"
   ]
  },
  {
   "cell_type": "code",
   "execution_count": null,
   "metadata": {},
   "outputs": [],
   "source": []
  },
  {
   "cell_type": "code",
   "execution_count": null,
   "metadata": {},
   "outputs": [],
   "source": []
  }
 ],
 "metadata": {
  "kernelspec": {
   "display_name": "Python 3",
   "language": "python",
   "name": "python3"
  },
  "language_info": {
   "codemirror_mode": {
    "name": "ipython",
    "version": 3
   },
   "file_extension": ".py",
   "mimetype": "text/x-python",
   "name": "python",
   "nbconvert_exporter": "python",
   "pygments_lexer": "ipython3",
   "version": "3.6.5"
  }
 },
 "nbformat": 4,
 "nbformat_minor": 1
}
